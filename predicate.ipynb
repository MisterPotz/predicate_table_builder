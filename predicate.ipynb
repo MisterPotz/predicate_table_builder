{
 "metadata": {
  "language_info": {
   "codemirror_mode": {
    "name": "ipython",
    "version": 3
   },
   "file_extension": ".py",
   "mimetype": "text/x-python",
   "name": "python",
   "nbconvert_exporter": "python",
   "pygments_lexer": "ipython3",
   "version": "3.8.5"
  },
  "orig_nbformat": 2,
  "kernelspec": {
   "name": "python3",
   "display_name": "Python 3.8.5 64-bit ('base': conda)",
   "metadata": {
    "interpreter": {
     "hash": "21c2144fef27240229bfe89ad8ad15a9ff95b23c3751cd412b473bda73150dc8"
    }
   }
  }
 },
 "nbformat": 4,
 "nbformat_minor": 2,
 "cells": [
  {
   "cell_type": "code",
   "execution_count": 95,
   "metadata": {},
   "outputs": [],
   "source": [
    "import numpy as np"
   ]
  },
  {
   "cell_type": "code",
   "execution_count": 451,
   "metadata": {},
   "outputs": [],
   "source": [
    "def generate_TF_inner(arr, n):\n",
    "        if n == 0:\n",
    "            return arr\n",
    "        else:\n",
    "            new_arr = []\n",
    "            for i in arr:\n",
    "                for possible_value in (True, False):\n",
    "                    new_i = i.copy()\n",
    "                    new_i.append(possible_value)\n",
    "                    new_arr.append(new_i)\n",
    "            if (len(new_arr) == 0):\n",
    "                new_arr = [[True],[False]]\n",
    "            return generate_TF_inner(new_arr, n-1)\n",
    "                    \n",
    "# generate all possible values of True, False for n variables\n",
    "def generate_TF(n):\n",
    "    arr = []\n",
    "    ans = generate_TF_inner(arr, n)\n",
    "    return ans"
   ]
  },
  {
   "cell_type": "code",
   "execution_count": 20,
   "metadata": {},
   "outputs": [],
   "source": [
    "def simplifyString(string):\n",
    "    return string.replace(\" \", \"\")\n",
    "def fill_vars(string):\n",
    "    vars = []\n",
    "    for i in string:\n",
    "        if (re.match('[a-zA-Z]', i)):\n",
    "            vars.append(i)\n",
    "    return vars\n",
    "def fill_ops(string):\n",
    "    ops = []\n",
    "    for i in string:\n",
    "        if (i in available_ops['parenthesis'] or \\\n",
    "            i in available_ops['binary'] or \\\n",
    "            i in available_ops['unary']):\n",
    "            ops.append(i)\n",
    "    return ops\n"
   ]
  },
  {
   "source": [
    "Парсим выражение.\n",
    "Есть операторы. Есть формулы. Формулы - это либо атомы, либо выражения. Объединение операторов и других формул даёт новую формулу.\n",
    "\n",
    "Видим выражение (A&B)|(!A&(B|C))&D\n",
    "\n",
    "1. Атом - инстанс класса, который хранит в себе номер аргумента из комбинации значений всех атомов в рамках одной интерпретации.\n",
    "2. Делаем сет всех атомов.\n",
    "3. Дробим исходное выражение на формулы. \n",
    "    1. Сначала отсекаем части по операторам (то есть что между скобок) - в рамках одного уровня заносим все встреченные операции. ['|', '&']\n",
    "    2. Вместо скобок создаём формулы. [(A&B), (!A&(B|C), D]\n",
    "    4. Эти штуки рекурсивно преобразуем по той же схеме. \n",
    "    5. После преобразования каждая штука должна возвратить формулу куда можно подставить комбинацию значений.\n",
    "    6. Полученные формулы объединеям в одну с учетом стека операций и возвращаем.\n",
    "4. Получится большая лямбда, которая принимает комбинацию всех значений.\n",
    "5. Делаем таблицу.\n",
    "\n"
   ],
   "cell_type": "markdown",
   "metadata": {}
  },
  {
   "cell_type": "code",
   "execution_count": 543,
   "metadata": {},
   "outputs": [],
   "source": [
    "class Atom:\n",
    "    def __init__(self, name):\n",
    "        self.name = name\n",
    "    def substitute(self, args):\n",
    "        return args[self.name]\n",
    "    def __str__(self):\n",
    "        return \"Atom \" + self.name\n",
    "    def __repr__(self):\n",
    "        return \"Atom \" + self.name\n",
    "\n",
    "class Op:\n",
    "    def __init__(self, op_string, unary):\n",
    "        self.op_string = op_string\n",
    "        self.unary = unary\n",
    "    def __str__(self):\n",
    "        return self.op_string\n",
    "    def __repr__(self):\n",
    "        return self.op_string\n",
    "    def op_on(self, *lambdas):\n",
    "        pass\n",
    "    def identify(self, expr):\n",
    "        if (expr.find(self.op_string) == 0):\n",
    "            return True\n",
    "        else:\n",
    "            return False\n",
    "\n",
    "class UnaryNeg(Op):\n",
    "    def __init__(self):\n",
    "        super().__init__(\"!\", True)\n",
    "    def op_on(self, *lambdas):\n",
    "        return lambda x: not lambdas[0](x)\n",
    "class AndOp(Op):\n",
    "    def __init__(self):\n",
    "        super().__init__(\"&\", False)\n",
    "    def op_on(self, *lambdas):\n",
    "        return lambda x: lambdas[0](x) and lambdas[1](x)\n",
    "class OrOp(Op):\n",
    "    def __init__(self):\n",
    "        super().__init__(\"|\", False)\n",
    "    def op_on(self, *lambdas):\n",
    "        return lambda x: lambdas[0](x) or lambdas[1](x)\n",
    "class ImplicatOp(Op):\n",
    "    def __init__(self):\n",
    "        super().__init__(\"->\", False)\n",
    "    def op_on(self, *lambdas):\n",
    "        def implicat(x):\n",
    "            a = lambdas[0](x)\n",
    "            b = lambdas[1](x)\n",
    "            if a and not b:\n",
    "                return False\n",
    "            else:\n",
    "                return True\n",
    "        return implicat\n",
    "class EquivOp(Op):\n",
    "    def __init__(self):\n",
    "        super().__init__(\"~\", False)\n",
    "    def op_on(self, *lambdas):\n",
    "        def equive(x):\n",
    "            a = lambdas[0](x)\n",
    "            b = lambdas[1](x)\n",
    "            if (a and b) or (not a and not b):\n",
    "                return True\n",
    "            else:\n",
    "                return False\n",
    "        return equive\n",
    "# try to identify the op in the given string and return it\n",
    "def identify_op(expression):\n",
    "    ops_set = {UnaryNeg(): True, AndOp(): True, OrOp(): True, ImplicatOp(): True, EquivOp(): True}\n",
    "    for op in ops_set:\n",
    "        if (op.identify(expression)):\n",
    "            return op\n",
    "    return None"
   ]
  },
  {
   "cell_type": "code",
   "execution_count": 544,
   "metadata": {},
   "outputs": [
    {
     "output_type": "stream",
     "name": "stdout",
     "text": [
      "! &\n"
     ]
    },
    {
     "output_type": "execute_result",
     "data": {
      "text/plain": [
       "False"
      ]
     },
     "metadata": {},
     "execution_count": 544
    }
   ],
   "source": [
    "a = UnaryNeg()\n",
    "b = AndOp()\n",
    "c = OrOp()\n",
    "/print a,b\n",
    "expr = \"!&\"\n",
    "b.identify(expr)"
   ]
  },
  {
   "cell_type": "code",
   "execution_count": 467,
   "metadata": {},
   "outputs": [],
   "source": [
    "def create_atom_set(expression):\n",
    "    atom_set = {}\n",
    "    for i in expression:\n",
    "        if i not in atom_set and re.match('[a-zA-Z]', i):\n",
    "            atom_set[i] = Atom(i)\n",
    "            print(i)\n",
    "    return atom_set\n",
    "\n",
    "def get_var_names(expression):\n",
    "    names = []\n",
    "    for i in expression:\n",
    "        if i not in names and re.match('[a-zA-Z]', i):\n",
    "            names.append(i)\n",
    "    return names"
   ]
  },
  {
   "cell_type": "code",
   "execution_count": 354,
   "metadata": {},
   "outputs": [],
   "source": [
    "def build_binary_lambda(op, lambda1, lambda2):\n",
    "    if (op == '&'):\n",
    "        def and_(x):\n",
    "            return lambda1(x) and lambda2(x)\n",
    "        return and_\n",
    "    elif (op == '|'):\n",
    "        def or_(x):\n",
    "            return lambda1(x) or lambda2(x)\n",
    "        return or_"
   ]
  },
  {
   "cell_type": "code",
   "execution_count": 431,
   "metadata": {},
   "outputs": [],
   "source": [
    "def full_lambda_on_stacks(ops_stack, lambda_stack):\n",
    "    lambda_stack_copy = lambda_stack.copy()\n",
    "    current_lambda = []\n",
    "    if (len(ops_stack) == 0 and len(lambda_stack_copy) == 1):\n",
    "        return lambda_stack_copy[0]\n",
    "    for i in range(0, len(ops_stack)):\n",
    "        if (i == 0):\n",
    "            current_lambda = build_binary_lambda(ops_stack[i] ,lambda_stack_copy[0], lambda_stack_copy[1])\n",
    "            lambda_stack_copy = lambda_stack_copy[2:]\n",
    "        else:\n",
    "            current_lambda = build_binary_lambda(ops_stack[i], current_lambda, lambda_stack_copy[0])\n",
    "            lambda_stack_copy = lambda_stack_copy[1:]\n",
    "    return current_lambda"
   ]
  },
  {
   "cell_type": "code",
   "execution_count": 489,
   "metadata": {},
   "outputs": [],
   "source": [
    "def lambda_for(expression, atom_set):\n",
    "    # build variables dictionary\n",
    "    if (atom_set == None):\n",
    "        expression = simplifyString(expression)\n",
    "        atom_set = create_atom_set(expression)\n",
    "    ops_stack = []\n",
    "    parenth_stack = []\n",
    "    lambdas_stack = []\n",
    "    available_ops = ['&', '|', '!']\n",
    "    begin = 0\n",
    "    for char_index in zip(expression, range(0, len(expression))):\n",
    "        i = char_index[1]\n",
    "        char = char_index[0]\n",
    "        if (char == '(' and len(parenth_stack) == 0):\n",
    "            parenth_stack.append('(')\n",
    "            begin = i\n",
    "        elif (char == '('):\n",
    "            parenth_stack.append('(')\n",
    "        elif (char == ')' and len(parenth_stack) == 1):\n",
    "            parenth_stack.pop()\n",
    "            inner_expr = expression[begin+1:i]\n",
    "            # parse inner expression and build lambda\n",
    "            inner_lambda = lambda_for(inner_expr, atom_set)\n",
    "            print(inner_lambda)\n",
    "            last_op = ops_stack[-1]\n",
    "            if (last_op == '!'):\n",
    "                lambdas_stack.append(lambda x: not inner_lambda(x))\n",
    "                ops_stack.pop()\n",
    "            elif (last_op == '&'):\n",
    "                lambdas_stack.append(inner_lambda)\n",
    "            elif (last_op == '|'):\n",
    "                lambdas_stack.append(inner_lambda)\n",
    "            begin = i+1\n",
    "        elif (char == ')'):\n",
    "            parenth_stack.pop()\n",
    "        elif (char in available_ops and len(parenth_stack) == 0):\n",
    "            print('added op', char)\n",
    "            ops_stack.append(char)\n",
    "        elif (re.match('[a-zA-Z]', char) and len(parenth_stack) == 0):\n",
    "            print('match')\n",
    "            if (len(ops_stack) == 0):\n",
    "                print('added var', char)\n",
    "                lambdas_stack.append(atom_set[char].substitute)\n",
    "            else:\n",
    "                last_op = ops_stack[-1]\n",
    "                if (last_op == '!'):\n",
    "                    char_loc = char\n",
    "                    print('neg op on char', char_loc)\n",
    "                    lambdas_stack.append(lambda x: not atom_set[char_loc].substitute(x))\n",
    "                    ops_stack.pop()\n",
    "                elif (last_op == '&'):\n",
    "                    print('and op on char', char)\n",
    "                    lambdas_stack.append(atom_set[char].substitute)\n",
    "                elif (last_op == '|'):\n",
    "                    print('or op on char', char)\n",
    "                    lambdas_stack.append(atom_set[char].substitute)\n",
    "    # after loop collect the stacks\n",
    "    full_lambda = full_lambda_on_stacks(ops_stack, lambdas_stack)\n",
    "    return full_lambda"
   ]
  },
  {
   "cell_type": "code",
   "execution_count": 474,
   "metadata": {},
   "outputs": [],
   "source": [
    "\n",
    "def true_table_for(fun, var_names):\n",
    "    table = []\n",
    "    result_keyword = \"result\"\n",
    "    all_combs = generate_TF(len(var_names))\n",
    "    for i in all_combs:\n",
    "        new_comb = {}\n",
    "        for char_with_index in zip(var_names, range(0, len(var_names))):\n",
    "            index = char_with_index[1]\n",
    "            char = char_with_index[0]\n",
    "            new_comb[char] = i[index]\n",
    "        result = fun(new_comb)\n",
    "        new_comb[result_keyword] = result\n",
    "        table.append(new_comb)\n",
    "    return table\n",
    "def full_solve(expr):\n",
    "    fun = lambda_for(expr, None)\n",
    "    return true_table_for(fun, get_var_names(expr))"
   ]
  },
  {
   "cell_type": "code",
   "execution_count": 475,
   "metadata": {},
   "outputs": [],
   "source": [
    "expression = '!A&B|(!A&C|(A&B))'"
   ]
  },
  {
   "cell_type": "code",
   "execution_count": 476,
   "metadata": {},
   "outputs": [
    {
     "output_type": "stream",
     "name": "stdout",
     "text": [
      "A\nB\nC\nadded op !\nmatch\nneg op on char A\nadded op &\nmatch\nand op on char B\nadded op |\nadded op !\nmatch\nneg op on char A\nadded op &\nmatch\nand op on char C\nadded op |\nmatch\nadded var A\nadded op &\nmatch\nand op on char B\n<function build_binary_lambda.<locals>.and_ at 0x7f9196f5b700>\n<function build_binary_lambda.<locals>.or_ at 0x7f9196f5b940>\n<function build_binary_lambda.<locals>.or_ at 0x7f9196f5bb80>\n"
     ]
    }
   ],
   "source": [
    "l = lambda_for(expression, None)\n",
    "/print l"
   ]
  },
  {
   "cell_type": "code",
   "execution_count": 477,
   "metadata": {},
   "outputs": [
    {
     "output_type": "execute_result",
     "data": {
      "text/plain": [
       "True"
      ]
     },
     "metadata": {},
     "execution_count": 477
    }
   ],
   "source": [
    "l({'A': False, 'B': False, 'C': True})"
   ]
  },
  {
   "cell_type": "code",
   "execution_count": 478,
   "metadata": {},
   "outputs": [
    {
     "output_type": "execute_result",
     "data": {
      "text/plain": [
       "[{'A': True, 'B': True, 'C': True, 'result': True},\n",
       " {'A': True, 'B': True, 'C': False, 'result': True},\n",
       " {'A': True, 'B': False, 'C': True, 'result': False},\n",
       " {'A': True, 'B': False, 'C': False, 'result': False},\n",
       " {'A': False, 'B': True, 'C': True, 'result': True},\n",
       " {'A': False, 'B': True, 'C': False, 'result': True},\n",
       " {'A': False, 'B': False, 'C': True, 'result': True},\n",
       " {'A': False, 'B': False, 'C': False, 'result': False}]"
      ]
     },
     "metadata": {},
     "execution_count": 478
    }
   ],
   "source": [
    "true_table_for(l, ['A', 'B', 'C'])"
   ]
  },
  {
   "cell_type": "code",
   "execution_count": 479,
   "metadata": {},
   "outputs": [
    {
     "output_type": "stream",
     "name": "stdout",
     "text": [
      "A\nB\nadded op !\nmatch\nadded var A\nadded op &\nmatch\nand op on char B\n<function build_binary_lambda.<locals>.and_ at 0x7f919aaa2a60>\n"
     ]
    },
    {
     "output_type": "execute_result",
     "data": {
      "text/plain": [
       "[{'A': True, 'B': True, 'result': False},\n",
       " {'A': True, 'B': False, 'result': True},\n",
       " {'A': False, 'B': True, 'result': True},\n",
       " {'A': False, 'B': False, 'result': True}]"
      ]
     },
     "metadata": {},
     "execution_count": 479
    }
   ],
   "source": [
    "expr2 = '!(A&B)'\n",
    "l_2 = lambda_for(expr2, None)\n",
    "true_table_for(l_2, ['A','B'])"
   ]
  },
  {
   "cell_type": "code",
   "execution_count": 482,
   "metadata": {},
   "outputs": [
    {
     "output_type": "stream",
     "name": "stdout",
     "text": [
      "A\nB\nmatch\nadded var A\nadded op &\nadded op !\nmatch\nneg op on char B\n"
     ]
    },
    {
     "output_type": "execute_result",
     "data": {
      "text/plain": [
       "[{'A': True, 'B': True, 'result': False},\n",
       " {'A': True, 'B': False, 'result': True},\n",
       " {'A': False, 'B': True, 'result': False},\n",
       " {'A': False, 'B': False, 'result': False}]"
      ]
     },
     "metadata": {},
     "execution_count": 482
    }
   ],
   "source": [
    "full_solve(\"A & !B\")"
   ]
  },
  {
   "cell_type": "code",
   "execution_count": 488,
   "metadata": {},
   "outputs": [
    {
     "output_type": "stream",
     "name": "stdout",
     "text": [
      "A\nB\nC\nD\nE\nmatch\nadded var A\nadded op &\nadded op !\nmatch\nneg op on char B\nadded op |\nadded op !\nmatch\nadded var C\nadded op &\nmatch\nand op on char D\nadded op &\nadded op !\nmatch\nadded var C\nadded op &\nmatch\nand op on char E\n<function build_binary_lambda.<locals>.and_ at 0x7f9196f5b550>\n<function build_binary_lambda.<locals>.and_ at 0x7f9196f5ba60>\n"
     ]
    },
    {
     "output_type": "execute_result",
     "data": {
      "text/plain": [
       "[{'A': True, 'B': True, 'C': True, 'D': True, 'E': True, 'result': True},\n",
       " {'A': True, 'B': True, 'C': True, 'D': True, 'E': False, 'result': False},\n",
       " {'A': True, 'B': True, 'C': True, 'D': False, 'E': True, 'result': True},\n",
       " {'A': True, 'B': True, 'C': True, 'D': False, 'E': False, 'result': True},\n",
       " {'A': True, 'B': True, 'C': False, 'D': True, 'E': True, 'result': True},\n",
       " {'A': True, 'B': True, 'C': False, 'D': True, 'E': False, 'result': True},\n",
       " {'A': True, 'B': True, 'C': False, 'D': False, 'E': True, 'result': True},\n",
       " {'A': True, 'B': True, 'C': False, 'D': False, 'E': False, 'result': True},\n",
       " {'A': True, 'B': False, 'C': True, 'D': True, 'E': True, 'result': True},\n",
       " {'A': True, 'B': False, 'C': True, 'D': True, 'E': False, 'result': True},\n",
       " {'A': True, 'B': False, 'C': True, 'D': False, 'E': True, 'result': True},\n",
       " {'A': True, 'B': False, 'C': True, 'D': False, 'E': False, 'result': True},\n",
       " {'A': True, 'B': False, 'C': False, 'D': True, 'E': True, 'result': True},\n",
       " {'A': True, 'B': False, 'C': False, 'D': True, 'E': False, 'result': True},\n",
       " {'A': True, 'B': False, 'C': False, 'D': False, 'E': True, 'result': True},\n",
       " {'A': True, 'B': False, 'C': False, 'D': False, 'E': False, 'result': True},\n",
       " {'A': False, 'B': True, 'C': True, 'D': True, 'E': True, 'result': True},\n",
       " {'A': False, 'B': True, 'C': True, 'D': True, 'E': False, 'result': False},\n",
       " {'A': False, 'B': True, 'C': True, 'D': False, 'E': True, 'result': True},\n",
       " {'A': False, 'B': True, 'C': True, 'D': False, 'E': False, 'result': True},\n",
       " {'A': False, 'B': True, 'C': False, 'D': True, 'E': True, 'result': True},\n",
       " {'A': False, 'B': True, 'C': False, 'D': True, 'E': False, 'result': True},\n",
       " {'A': False, 'B': True, 'C': False, 'D': False, 'E': True, 'result': True},\n",
       " {'A': False, 'B': True, 'C': False, 'D': False, 'E': False, 'result': True},\n",
       " {'A': False, 'B': False, 'C': True, 'D': True, 'E': True, 'result': True},\n",
       " {'A': False, 'B': False, 'C': True, 'D': True, 'E': False, 'result': False},\n",
       " {'A': False, 'B': False, 'C': True, 'D': False, 'E': True, 'result': True},\n",
       " {'A': False, 'B': False, 'C': True, 'D': False, 'E': False, 'result': True},\n",
       " {'A': False, 'B': False, 'C': False, 'D': True, 'E': True, 'result': True},\n",
       " {'A': False, 'B': False, 'C': False, 'D': True, 'E': False, 'result': True},\n",
       " {'A': False, 'B': False, 'C': False, 'D': False, 'E': True, 'result': True},\n",
       " {'A': False, 'B': False, 'C': False, 'D': False, 'E': False, 'result': True}]"
      ]
     },
     "metadata": {},
     "execution_count": 488
    }
   ],
   "source": [
    "full_solve(\"A & !B | !(C&D&!(C&E))\")"
   ]
  },
  {
   "cell_type": "code",
   "execution_count": 584,
   "metadata": {},
   "outputs": [],
   "source": [
    "def collect_as_labmda(ops_stack, lambda_stack):\n",
    "    lambda_stack_copy = lambda_stack.copy()\n",
    "    current_lambda = None\n",
    "    if (len(lambda_stack_copy) == 1):\n",
    "        return lambda_stack_copy[0]\n",
    "    for i in range(0, len(ops_stack)):\n",
    "        if (current_lambda == None):\n",
    "            current_lambda = ops_stack[i].op_on(lambda_stack_copy[0], lambda_stack_copy[1])\n",
    "            lambda_stack_copy = lambda_stack_copy[2:]\n",
    "        else:\n",
    "            current_lambda = ops_stack[i].op_on(current_lambda, lambda_stack_copy[0])\n",
    "            lambda_stack_copy = lambda_stack_copy[1:]\n",
    "    return current_lambda\n",
    "\n",
    "def lambda_for_adv(expression, atom_set):\n",
    "    # build variables dictionary\n",
    "    if (atom_set == None):\n",
    "        expression = simplifyString(expression)\n",
    "        atom_set = create_atom_set(expression)\n",
    "    ops_stack = []\n",
    "    parenth_stack = []\n",
    "    lambdas_stack = []        \n",
    "    begin = 0\n",
    "    for char_index in zip(expression, range(0, len(expression))):\n",
    "        i = char_index[1]\n",
    "        char = char_index[0]\n",
    "        if (char == '(' and len(parenth_stack) == 0):\n",
    "            parenth_stack.append('(')\n",
    "            begin = i\n",
    "        elif (char == ')' and len(parenth_stack) == 1):\n",
    "            parenth_stack.pop()\n",
    "            inner_expr = expression[begin+1:i]\n",
    "            # parse inner expression and build lambda\n",
    "            inner_lambda = lambda_for_adv(inner_expr, atom_set)\n",
    "            print(inner_lambda)\n",
    "            last_op = ops_stack[-1]\n",
    "            if (last_op.unary):\n",
    "                lambdas_stack.append(last_op.op_on(inner_lambda))\n",
    "                ops_stack.pop()\n",
    "            else:\n",
    "                lambdas_stack.append(inner_lambda)\n",
    "            begin = i+1\n",
    "        elif (char == '('):\n",
    "            parenth_stack.append('(')\n",
    "        elif (char == ')'):\n",
    "            parenth_stack.pop()\n",
    "        elif (len(parenth_stack) == 0):\n",
    "            # now need to understand what kind of sumbol encountered\n",
    "            identified_op = identify_op(expression[i:])\n",
    "            if (identified_op != None):\n",
    "                print(f\"identified op: {identified_op}\")\n",
    "                ops_stack.append(identified_op)\n",
    "            elif re.match('[a-zA-Z]', char):\n",
    "                # if a char than just collect as lambda\n",
    "                if (len(ops_stack) == 0):\n",
    "                    print('added var', char)\n",
    "                    lambdas_stack.append(atom_set[char].substitute)\n",
    "                else:\n",
    "                    # if operation check if can collect with the new char\n",
    "                    last_op = ops_stack[-1]\n",
    "                    if (last_op.unary):\n",
    "                        lambdas_stack.append(last_op.op_on(atom_set[char].substitute))\n",
    "                        ops_stack.pop()\n",
    "                    else:\n",
    "                        lambdas_stack.append(atom_set[char].substitute)\n",
    "    # now the ops and lambdas must be filled\n",
    "    full_lambda = collect_as_labmda(ops_stack, lambdas_stack)\n",
    "    return full_lambda"
   ]
  },
  {
   "cell_type": "code",
   "execution_count": 585,
   "metadata": {},
   "outputs": [
    {
     "output_type": "stream",
     "name": "stdout",
     "text": [
      "A\nB\nC\nidentified op: !\nadded var A\n<bound method Atom.substitute of Atom A>\nidentified op: &\nadded var B\nidentified op: ->\n<function ImplicatOp.op_on.<locals>.implicat at 0x7f919b0f8550>\n"
     ]
    }
   ],
   "source": [
    "la = lambda_for_adv(\"!(A)&(B->C)\", None)"
   ]
  },
  {
   "cell_type": "code",
   "execution_count": 586,
   "metadata": {},
   "outputs": [
    {
     "output_type": "execute_result",
     "data": {
      "text/plain": [
       "False"
      ]
     },
     "metadata": {},
     "execution_count": 586
    }
   ],
   "source": [
    "la({'A': False, 'B': True, 'C': False})"
   ]
  }
 ]
}