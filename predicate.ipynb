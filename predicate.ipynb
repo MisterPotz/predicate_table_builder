{
 "metadata": {
  "language_info": {
   "codemirror_mode": {
    "name": "ipython",
    "version": 3
   },
   "file_extension": ".py",
   "mimetype": "text/x-python",
   "name": "python",
   "nbconvert_exporter": "python",
   "pygments_lexer": "ipython3",
   "version": "3.8.5"
  },
  "orig_nbformat": 2,
  "kernelspec": {
   "name": "python3",
   "display_name": "Python 3.8.5 64-bit ('base': conda)",
   "metadata": {
    "interpreter": {
     "hash": "21c2144fef27240229bfe89ad8ad15a9ff95b23c3751cd412b473bda73150dc8"
    }
   }
  }
 },
 "nbformat": 4,
 "nbformat_minor": 2,
 "cells": [
  {
   "cell_type": "code",
   "execution_count": 95,
   "metadata": {},
   "outputs": [],
   "source": [
    "import numpy as np"
   ]
  },
  {
   "cell_type": "code",
   "execution_count": 96,
   "metadata": {},
   "outputs": [],
   "source": [
    "a = np.array([])"
   ]
  },
  {
   "cell_type": "code",
   "execution_count": 451,
   "metadata": {},
   "outputs": [],
   "source": [
    "def generate_TF_inner(arr, n):\n",
    "        if n == 0:\n",
    "            return arr\n",
    "        else:\n",
    "            new_arr = []\n",
    "            for i in arr:\n",
    "                for possible_value in (True, False):\n",
    "                    new_i = i.copy()\n",
    "                    new_i.append(possible_value)\n",
    "                    new_arr.append(new_i)\n",
    "            if (len(new_arr) == 0):\n",
    "                new_arr = [[True],[False]]\n",
    "            return generate_TF_inner(new_arr, n-1)\n",
    "                    \n",
    "# generate all possible values of True, False for n variables\n",
    "def generate_TF(n):\n",
    "    arr = []\n",
    "    ans = generate_TF_inner(arr, n)\n",
    "    return ans"
   ]
  },
  {
   "cell_type": "code",
   "execution_count": 20,
   "metadata": {},
   "outputs": [],
   "source": [
    "def simplifyString(string):\n",
    "    return string.replace(\" \", \"\")\n",
    "def fill_vars(string):\n",
    "    vars = []\n",
    "    for i in string:\n",
    "        if (re.match('[a-zA-Z]', i)):\n",
    "            vars.append(i)\n",
    "    return vars\n",
    "def fill_ops(string):\n",
    "    ops = []\n",
    "    for i in string:\n",
    "        if (i in available_ops['parenthesis'] or \\\n",
    "            i in available_ops['binary'] or \\\n",
    "            i in available_ops['unary']):\n",
    "            ops.append(i)\n",
    "    return ops\n"
   ]
  },
  {
   "source": [
    "Парсим выражение.\n",
    "Есть операторы. Есть формулы. Формулы - это либо атомы, либо выражения. Объединение операторов и других формул даёт новую формулу.\n",
    "\n",
    "Видим выражение (A&B)|(!A&(B|C))&D\n",
    "\n",
    "1. Атом - инстанс класса, который хранит в себе номер аргумента из комбинации значений всех атомов в рамках одной интерпретации.\n",
    "2. Делаем сет всех атомов.\n",
    "3. Дробим исходное выражение на формулы. \n",
    "    1. Сначала отсекаем части по операторам (то есть что между скобок) - в рамках одного уровня заносим все встреченные операции. ['|', '&']\n",
    "    2. Вместо скобок создаём формулы. [(A&B), (!A&(B|C), D]\n",
    "    4. Эти штуки рекурсивно преобразуем по той же схеме. \n",
    "    5. После преобразования каждая штука должна возвратить формулу куда можно подставить комбинацию значений.\n",
    "    6. Полученные формулы объединеям в одну с учетом стека операций и возвращаем.\n",
    "4. Получится большая лямбда, которая принимает комбинацию всех значений.\n",
    "5. Делаем таблицу.\n",
    "\n"
   ],
   "cell_type": "markdown",
   "metadata": {}
  },
  {
   "cell_type": "code",
   "execution_count": 349,
   "metadata": {},
   "outputs": [],
   "source": [
    "class Atom:\n",
    "    def __init__(self, name):\n",
    "        self.name = name\n",
    "    def substitute(self, args):\n",
    "        return args[self.name]\n",
    "    def __str__(self):\n",
    "        return \"Atom \" + self.name\n",
    "    def __repr__(self):\n",
    "        return \"Atom \" + self.name"
   ]
  },
  {
   "cell_type": "code",
   "execution_count": 385,
   "metadata": {},
   "outputs": [],
   "source": [
    "def create_atom_set(expression):\n",
    "    atom_set = {}\n",
    "    for i in expression:\n",
    "        if i not in atom_set and re.match('[a-zA-Z]', i):\n",
    "            atom_set[i] = Atom(i)\n",
    "            print(i)\n",
    "    return atom_set"
   ]
  },
  {
   "cell_type": "code",
   "execution_count": 371,
   "metadata": {},
   "outputs": [],
   "source": [
    "def evaluate_expr(expression, atom_set):\n",
    "    ops_stack = []\n",
    "    sub_expr_stack = []\n",
    "    parenth_stack = []\n",
    "    lambdas_stack = []\n",
    "    available_ops = ['&', '|', '!']\n",
    "    begin = 0\n",
    "    for char_index in zip(expression, range(0, len(expression))):\n",
    "        i = char_index[1]\n",
    "        char = char_index[0]\n",
    "        if (char == '(' and len(parenth_stack) == 0):\n",
    "            parenth_stack.append('(')\n",
    "            begin = i\n",
    "        elif (char == '('):\n",
    "            parenth_stack.append('(')\n",
    "        elif (char == ')' and len(parenth_stack) == 1):\n",
    "            parenth_stack.pop()\n",
    "            sub_expr_stack.append(expression[begin+1:i])\n",
    "            begin = i+1\n",
    "        elif (char == ')'):\n",
    "            parenth_stack.pop()\n",
    "        elif (char in available_ops and len(parenth_stack) == 0):\n",
    "            print('added op', char)\n",
    "            ops_stack.append(char)\n",
    "        elif (re.match('[a-zA-Z]', char)):\n",
    "            print('match')\n",
    "            if (len(ops_stack) == 0):\n",
    "                print('added var', char)\n",
    "                sub_expr_stack.append(char)\n",
    "            else:\n",
    "                last_op = ops_stack[-1]\n",
    "                if (last_op == '!'):\n",
    "                    char_loc = char\n",
    "                    print('neg op on char', char_loc)\n",
    "                    lambdas_stack.append(lambda x: not atom_set[char_loc].substitute(x))\n",
    "                    ops_stack.pop()\n",
    "                elif (last_op == '&'):\n",
    "                    print('and op on char', char)\n",
    "                    lambdas_stack.append(atom_set[char].substitute)\n",
    "                elif (last_op == '|'):\n",
    "                    print('or op on char', char)\n",
    "                    lambdas_stack.append(atom_set[char].substitute)\n",
    "    return {'ops': ops_stack, 'sub_expr': sub_expr_stack, 'lambdas': lambdas_stack}"
   ]
  },
  {
   "cell_type": "code",
   "execution_count": 355,
   "metadata": {},
   "outputs": [
    {
     "output_type": "execute_result",
     "data": {
      "text/plain": [
       "[]"
      ]
     },
     "metadata": {},
     "execution_count": 355
    }
   ],
   "source": [
    "l = [1, 2, 3]\n",
    "l[3:]"
   ]
  },
  {
   "cell_type": "code",
   "execution_count": 361,
   "metadata": {},
   "outputs": [
    {
     "output_type": "execute_result",
     "data": {
      "text/plain": [
       "{'ops': ['|', '&'], 'sub_expr': ['A&B', '!A&(B|C)']}"
      ]
     },
     "metadata": {},
     "execution_count": 361
    }
   ],
   "source": [
    "split_for_formulas(expression)"
   ]
  },
  {
   "cell_type": "code",
   "execution_count": 415,
   "metadata": {},
   "outputs": [
    {
     "output_type": "stream",
     "name": "stdout",
     "text": [
      "A\nB\nC\nadded op !\nmatch\nneg op on char A\nadded op &\nmatch\nand op on char B\nadded op |\nmatch\nor op on char C\n"
     ]
    }
   ],
   "source": [
    "# simple expr\n",
    "simple_expr = '!A&B|C'\n",
    "simple_expr_atom_set = atom_set(simple_expr)\n",
    "simple_args = {'A': True, 'B': True, 'C': True}\n",
    "stacks = evaluate_expr(simple_expr, simple_expr_atom_set)"
   ]
  },
  {
   "cell_type": "code",
   "execution_count": 416,
   "metadata": {},
   "outputs": [
    {
     "output_type": "stream",
     "name": "stdout",
     "text": [
      "False\nTrue\nTrue\n"
     ]
    }
   ],
   "source": [
    "/print stacks['lambdas'][0](simple_args)\n",
    "/print stacks['lambdas'][1](simple_args)\n",
    "/print stacks['lambdas'][2](simple_args)"
   ]
  },
  {
   "cell_type": "code",
   "execution_count": 417,
   "metadata": {},
   "outputs": [],
   "source": [
    "s_f_lambda = full_lambda_on_stacks(stacks['ops'], stacks['lambdas'])"
   ]
  },
  {
   "cell_type": "code",
   "execution_count": 418,
   "metadata": {},
   "outputs": [
    {
     "output_type": "execute_result",
     "data": {
      "text/plain": [
       "True"
      ]
     },
     "metadata": {},
     "execution_count": 418
    }
   ],
   "source": [
    "s_f_lambda(simple_args)"
   ]
  },
  {
   "cell_type": "code",
   "execution_count": 419,
   "metadata": {},
   "outputs": [
    {
     "output_type": "stream",
     "name": "stdout",
     "text": [
      "[[True, True, True], [True, True, False], [True, False, True], [True, False, False], [False, True, True], [False, True, False], [False, False, True], [False, False, False]]\n"
     ]
    }
   ],
   "source": [
    "simple_all_args = generate_TF(3)"
   ]
  },
  {
   "cell_type": "code",
   "execution_count": 420,
   "metadata": {},
   "outputs": [],
   "source": [
    "table = []\n",
    "for i in simple_all_args:\n",
    "    new_comb = {}\n",
    "    for char_with_index in zip(simple_expr_atom_set, range(0, len(simple_expr_atom_set))):\n",
    "        index = char_with_index[1]\n",
    "        char = char_with_index[0]\n",
    "        new_comb[char] = i[index]\n",
    "    table.append(new_comb)"
   ]
  },
  {
   "cell_type": "code",
   "execution_count": 421,
   "metadata": {},
   "outputs": [
    {
     "output_type": "execute_result",
     "data": {
      "text/plain": [
       "[{'A': True, 'B': True, 'C': True},\n",
       " {'A': True, 'B': True, 'C': False},\n",
       " {'A': True, 'B': False, 'C': True},\n",
       " {'A': True, 'B': False, 'C': False},\n",
       " {'A': False, 'B': True, 'C': True},\n",
       " {'A': False, 'B': True, 'C': False},\n",
       " {'A': False, 'B': False, 'C': True},\n",
       " {'A': False, 'B': False, 'C': False}]"
      ]
     },
     "metadata": {},
     "execution_count": 421
    }
   ],
   "source": [
    "table"
   ]
  },
  {
   "cell_type": "code",
   "execution_count": 422,
   "metadata": {},
   "outputs": [
    {
     "output_type": "stream",
     "name": "stdout",
     "text": [
      "{'A': True, 'B': True, 'C': True} is True\n{'A': True, 'B': True, 'C': False} is False\n{'A': True, 'B': False, 'C': True} is True\n{'A': True, 'B': False, 'C': False} is False\n{'A': False, 'B': True, 'C': True} is True\n{'A': False, 'B': True, 'C': False} is True\n{'A': False, 'B': False, 'C': True} is True\n{'A': False, 'B': False, 'C': False} is False\n"
     ]
    }
   ],
   "source": [
    "for i in table:\n",
    "    ans = s_f_lambda(i)\n",
    "    print(i, \"is\", ans, end=\"\\n\")"
   ]
  },
  {
   "source": [
    "for expression: '!A&B|C'\n"
   ],
   "cell_type": "markdown",
   "metadata": {}
  },
  {
   "cell_type": "code",
   "execution_count": 354,
   "metadata": {},
   "outputs": [],
   "source": [
    "def build_binary_lambda(op, lambda1, lambda2):\n",
    "    if (op == '&'):\n",
    "        def and_(x):\n",
    "            return lambda1(x) and lambda2(x)\n",
    "        return and_\n",
    "    elif (op == '|'):\n",
    "        def or_(x):\n",
    "            return lambda1(x) or lambda2(x)\n",
    "        return or_"
   ]
  },
  {
   "cell_type": "code",
   "execution_count": 431,
   "metadata": {},
   "outputs": [],
   "source": [
    "def full_lambda_on_stacks(ops_stack, lambda_stack):\n",
    "    lambda_stack_copy = lambda_stack.copy()\n",
    "    current_lambda = []\n",
    "    if (len(ops_stack) == 0 and len(lambda_stack_copy) == 1):\n",
    "        return lambda_stack_copy[0]\n",
    "    for i in range(0, len(ops_stack)):\n",
    "        if (i == 0):\n",
    "            current_lambda = build_binary_lambda(ops_stack[i] ,lambda_stack_copy[0], lambda_stack_copy[1])\n",
    "            lambda_stack_copy = lambda_stack_copy[2:]\n",
    "        else:\n",
    "            current_lambda = build_binary_lambda(ops_stack[i], current_lambda, lambda_stack_copy[0])\n",
    "            lambda_stack_copy = lambda_stack_copy[1:]\n",
    "    return current_lambda"
   ]
  },
  {
   "cell_type": "code",
   "execution_count": 455,
   "metadata": {},
   "outputs": [],
   "source": [
    "def lambda_for(expression, atom_set):\n",
    "    # build variables dictionary\n",
    "    if (atom_set == None):\n",
    "        atom_set = create_atom_set(expression)\n",
    "    ops_stack = []\n",
    "    parenth_stack = []\n",
    "    lambdas_stack = []\n",
    "    available_ops = ['&', '|', '!']\n",
    "    begin = 0\n",
    "    for char_index in zip(expression, range(0, len(expression))):\n",
    "        i = char_index[1]\n",
    "        char = char_index[0]\n",
    "        if (char == '(' and len(parenth_stack) == 0):\n",
    "            parenth_stack.append('(')\n",
    "            begin = i\n",
    "        elif (char == '('):\n",
    "            parenth_stack.append('(')\n",
    "        elif (char == ')' and len(parenth_stack) == 1):\n",
    "            parenth_stack.pop()\n",
    "            inner_expr = expression[begin+1:i]\n",
    "            # parse inner expression and build lambda\n",
    "            inner_lambda = lambda_for(inner_expr, atom_set)\n",
    "            print(inner_lambda)\n",
    "            last_op = ops_stack[-1]\n",
    "            if (last_op == '!'):\n",
    "                lambdas_stack.append(lambda x: not inner_lambda(x))\n",
    "                ops_stack.pop()\n",
    "            elif (last_op == '&'):\n",
    "                lambdas_stack.append(inner_lambda)\n",
    "            elif (last_op == '|'):\n",
    "                lambdas_stack.append(inner_lambda)\n",
    "            begin = i+1\n",
    "        elif (char == ')'):\n",
    "            parenth_stack.pop()\n",
    "        elif (char in available_ops and len(parenth_stack) == 0):\n",
    "            print('added op', char)\n",
    "            ops_stack.append(char)\n",
    "        elif (re.match('[a-zA-Z]', char) and len(parenth_stack) == 0):\n",
    "            print('match')\n",
    "            if (len(ops_stack) == 0):\n",
    "                print('added var', char)\n",
    "                lambdas_stack.append(atom_set[char].substitute)\n",
    "            else:\n",
    "                last_op = ops_stack[-1]\n",
    "                if (last_op == '!'):\n",
    "                    char_loc = char\n",
    "                    print('neg op on char', char_loc)\n",
    "                    lambdas_stack.append(lambda x: not atom_set[char_loc].substitute(x))\n",
    "                    ops_stack.pop()\n",
    "                elif (last_op == '&'):\n",
    "                    print('and op on char', char)\n",
    "                    lambdas_stack.append(atom_set[char].substitute)\n",
    "                elif (last_op == '|'):\n",
    "                    print('or op on char', char)\n",
    "                    lambdas_stack.append(atom_set[char].substitute)\n",
    "    # after loop collect the stacks\n",
    "    full_lambda = full_lambda_on_stacks(ops_stack, lambdas_stack)\n",
    "    return full_lambda"
   ]
  },
  {
   "cell_type": "code",
   "execution_count": 442,
   "metadata": {},
   "outputs": [],
   "source": [
    "expression = '!A&B|(!A&C|(A&B))'"
   ]
  },
  {
   "cell_type": "code",
   "execution_count": 443,
   "metadata": {},
   "outputs": [
    {
     "output_type": "stream",
     "name": "stdout",
     "text": [
      "A\nB\nC\nadded op !\nmatch\nneg op on char A\nadded op &\nmatch\nand op on char B\nadded op |\nadded op !\nmatch\nneg op on char A\nadded op &\nmatch\nand op on char C\nadded op |\nmatch\nadded var A\nadded op &\nmatch\nand op on char B\n<function build_binary_lambda.<locals>.and_ at 0x7f9199f270d0>\n<function build_binary_lambda.<locals>.or_ at 0x7f9199f27040>\n<function build_binary_lambda.<locals>.or_ at 0x7f919b0f83a0>\n"
     ]
    }
   ],
   "source": [
    "l = lambda_for(expression, None)\n",
    "/print l"
   ]
  },
  {
   "cell_type": "code",
   "execution_count": 445,
   "metadata": {},
   "outputs": [
    {
     "output_type": "execute_result",
     "data": {
      "text/plain": [
       "True"
      ]
     },
     "metadata": {},
     "execution_count": 445
    }
   ],
   "source": [
    "l({'A': False, 'B': False, 'C': True})"
   ]
  },
  {
   "cell_type": "code",
   "execution_count": 448,
   "metadata": {},
   "outputs": [],
   "source": [
    "def true_table_for(fun, var_names):\n",
    "    table = []\n",
    "    result_keyword = \"result\"\n",
    "    all_combs = generate_TF(len(var_names))\n",
    "    for i in all_combs:\n",
    "        new_comb = {}\n",
    "        for char_with_index in zip(var_names, range(0, len(var_names))):\n",
    "            index = char_with_index[1]\n",
    "            char = char_with_index[0]\n",
    "            new_comb[char] = i[index]\n",
    "        result = fun(new_comb)\n",
    "        new_comb[result_keyword] = result\n",
    "        table.append(new_comb)\n",
    "    return table"
   ]
  },
  {
   "cell_type": "code",
   "execution_count": 449,
   "metadata": {},
   "outputs": [
    {
     "output_type": "stream",
     "name": "stdout",
     "text": [
      "[[True, True, True], [True, True, False], [True, False, True], [True, False, False], [False, True, True], [False, True, False], [False, False, True], [False, False, False]]\n"
     ]
    },
    {
     "output_type": "execute_result",
     "data": {
      "text/plain": [
       "[{'A': True, 'B': True, 'C': True, 'result': True},\n",
       " {'A': True, 'B': True, 'C': False, 'result': True},\n",
       " {'A': True, 'B': False, 'C': True, 'result': False},\n",
       " {'A': True, 'B': False, 'C': False, 'result': False},\n",
       " {'A': False, 'B': True, 'C': True, 'result': True},\n",
       " {'A': False, 'B': True, 'C': False, 'result': True},\n",
       " {'A': False, 'B': False, 'C': True, 'result': True},\n",
       " {'A': False, 'B': False, 'C': False, 'result': False}]"
      ]
     },
     "metadata": {},
     "execution_count": 449
    }
   ],
   "source": [
    "true_table_for(l, ['A', 'B', 'C'])"
   ]
  },
  {
   "cell_type": "code",
   "execution_count": 456,
   "metadata": {},
   "outputs": [
    {
     "output_type": "stream",
     "name": "stdout",
     "text": [
      "A\nB\nadded op !\nmatch\nadded var A\nadded op &\nmatch\nand op on char B\n<function build_binary_lambda.<locals>.and_ at 0x7f9199f27670>\n"
     ]
    },
    {
     "output_type": "execute_result",
     "data": {
      "text/plain": [
       "[{'A': True, 'B': True, 'result': False},\n",
       " {'A': True, 'B': False, 'result': True},\n",
       " {'A': False, 'B': True, 'result': True},\n",
       " {'A': False, 'B': False, 'result': True}]"
      ]
     },
     "metadata": {},
     "execution_count": 456
    }
   ],
   "source": [
    "expr2 = '!(A&B)'\n",
    "l_2 = lambda_for(expr2, None)\n",
    "true_table_for(l_2, ['A','B'])"
   ]
  },
  {
   "cell_type": "code",
   "execution_count": null,
   "metadata": {},
   "outputs": [],
   "source": []
  }
 ]
}